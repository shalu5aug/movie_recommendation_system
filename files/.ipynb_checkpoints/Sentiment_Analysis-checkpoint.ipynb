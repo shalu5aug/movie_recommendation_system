{
 "cells": [
  {
   "cell_type": "markdown",
   "metadata": {},
   "source": [
    "# Sentiment analysis on movies reviews"
   ]
  },
  {
   "cell_type": "code",
   "execution_count": null,
   "metadata": {},
   "outputs": [],
   "source": [
    "#import libraries"
   ]
  },
  {
   "cell_type": "code",
   "execution_count": 1,
   "metadata": {},
   "outputs": [],
   "source": [
    "import pandas as pd\n",
    "import numpy as np\n",
    "import re\n",
    "import nltk\n",
    "import requests\n",
    "import seaborn as sns\n",
    "import matplotlib.pyplot as plt"
   ]
  },
  {
   "cell_type": "code",
   "execution_count": 2,
   "metadata": {},
   "outputs": [
    {
     "name": "stderr",
     "output_type": "stream",
     "text": [
      "[nltk_data] Downloading package punkt to\n",
      "[nltk_data]     /Users/shaliniantil/nltk_data...\n",
      "[nltk_data]   Package punkt is already up-to-date!\n"
     ]
    },
    {
     "data": {
      "text/plain": [
       "True"
      ]
     },
     "execution_count": 2,
     "metadata": {},
     "output_type": "execute_result"
    }
   ],
   "source": [
    "nltk.download('punkt')"
   ]
  },
  {
   "cell_type": "code",
   "execution_count": 3,
   "metadata": {},
   "outputs": [],
   "source": [
    "#dataset for reviews"
   ]
  },
  {
   "cell_type": "code",
   "execution_count": 4,
   "metadata": {},
   "outputs": [],
   "source": [
    "reviews = pd.read_csv('IMDB_dataset.csv')"
   ]
  },
  {
   "cell_type": "code",
   "execution_count": 5,
   "metadata": {},
   "outputs": [],
   "source": [
    "movie = pd.read_csv('final_movie_dataset.csv')"
   ]
  },
  {
   "cell_type": "code",
   "execution_count": 6,
   "metadata": {},
   "outputs": [],
   "source": [
    "#because of space issues we are working on only 1000 records"
   ]
  },
  {
   "cell_type": "code",
   "execution_count": 7,
   "metadata": {},
   "outputs": [
    {
     "data": {
      "text/plain": [
       "<bound method DataFrame.info of       Unnamed: 0                                             review sentiment\n",
       "0              0  One of the other reviewers has mentioned that ...  positive\n",
       "1              1  A wonderful little production. <br /><br />The...  positive\n",
       "2              2  I thought this was a wonderful way to spend ti...  positive\n",
       "3              3  Basically there's a family where a little boy ...  negative\n",
       "4              4  Petter Mattei's \"Love in the Time of Money\" is...  positive\n",
       "...          ...                                                ...       ...\n",
       "996          996  I hated it. I hate self-aware pretentious inan...  negative\n",
       "997          997  I usually try to be professional and construct...  negative\n",
       "998          998  If you like me is going to see this in a film ...  negative\n",
       "999          999  This is like a zoology textbook, given that it...  negative\n",
       "1000        1000  This movie is awful, I can't even be bothered ...  negative\n",
       "\n",
       "[1001 rows x 3 columns]>"
      ]
     },
     "execution_count": 7,
     "metadata": {},
     "output_type": "execute_result"
    }
   ],
   "source": [
    "reviews.info"
   ]
  },
  {
   "cell_type": "code",
   "execution_count": 8,
   "metadata": {},
   "outputs": [],
   "source": [
    "reviews.drop('Unnamed: 0',axis=1, inplace=True)"
   ]
  },
  {
   "cell_type": "markdown",
   "metadata": {},
   "source": [
    "# text preprocessing"
   ]
  },
  {
   "cell_type": "code",
   "execution_count": 9,
   "metadata": {},
   "outputs": [
    {
     "data": {
      "text/html": [
       "<div>\n",
       "<style scoped>\n",
       "    .dataframe tbody tr th:only-of-type {\n",
       "        vertical-align: middle;\n",
       "    }\n",
       "\n",
       "    .dataframe tbody tr th {\n",
       "        vertical-align: top;\n",
       "    }\n",
       "\n",
       "    .dataframe thead th {\n",
       "        text-align: right;\n",
       "    }\n",
       "</style>\n",
       "<table border=\"1\" class=\"dataframe\">\n",
       "  <thead>\n",
       "    <tr style=\"text-align: right;\">\n",
       "      <th></th>\n",
       "      <th>review</th>\n",
       "      <th>sentiment</th>\n",
       "    </tr>\n",
       "  </thead>\n",
       "  <tbody>\n",
       "    <tr>\n",
       "      <th>0</th>\n",
       "      <td>One of the other reviewers has mentioned that ...</td>\n",
       "      <td>positive</td>\n",
       "    </tr>\n",
       "    <tr>\n",
       "      <th>1</th>\n",
       "      <td>A wonderful little production. &lt;br /&gt;&lt;br /&gt;The...</td>\n",
       "      <td>positive</td>\n",
       "    </tr>\n",
       "    <tr>\n",
       "      <th>2</th>\n",
       "      <td>I thought this was a wonderful way to spend ti...</td>\n",
       "      <td>positive</td>\n",
       "    </tr>\n",
       "    <tr>\n",
       "      <th>3</th>\n",
       "      <td>Basically there's a family where a little boy ...</td>\n",
       "      <td>negative</td>\n",
       "    </tr>\n",
       "    <tr>\n",
       "      <th>4</th>\n",
       "      <td>Petter Mattei's \"Love in the Time of Money\" is...</td>\n",
       "      <td>positive</td>\n",
       "    </tr>\n",
       "  </tbody>\n",
       "</table>\n",
       "</div>"
      ],
      "text/plain": [
       "                                              review sentiment\n",
       "0  One of the other reviewers has mentioned that ...  positive\n",
       "1  A wonderful little production. <br /><br />The...  positive\n",
       "2  I thought this was a wonderful way to spend ti...  positive\n",
       "3  Basically there's a family where a little boy ...  negative\n",
       "4  Petter Mattei's \"Love in the Time of Money\" is...  positive"
      ]
     },
     "execution_count": 9,
     "metadata": {},
     "output_type": "execute_result"
    }
   ],
   "source": [
    "reviews.head(5)"
   ]
  },
  {
   "cell_type": "code",
   "execution_count": 10,
   "metadata": {},
   "outputs": [],
   "source": [
    "#remove tags"
   ]
  },
  {
   "cell_type": "code",
   "execution_count": 11,
   "metadata": {},
   "outputs": [],
   "source": [
    "def remove_tags(text):\n",
    "    return(re.sub('<br /><br />', ' ', text).lower())"
   ]
  },
  {
   "cell_type": "code",
   "execution_count": 12,
   "metadata": {},
   "outputs": [],
   "source": [
    "reviews['review'] = reviews['review'].apply(remove_tags)"
   ]
  },
  {
   "cell_type": "code",
   "execution_count": 13,
   "metadata": {},
   "outputs": [],
   "source": [
    "#remove special characters"
   ]
  },
  {
   "cell_type": "code",
   "execution_count": 14,
   "metadata": {},
   "outputs": [],
   "source": [
    "def remove_spl_char(text):\n",
    "#     text=\"\".join(filter(str.isalnum,text))\n",
    "    text=re.sub(\"[^a-zA-Z0-9]\", ' ', text)\n",
    "    return(text)"
   ]
  },
  {
   "cell_type": "code",
   "execution_count": 15,
   "metadata": {},
   "outputs": [],
   "source": [
    "reviews['review'] = reviews['review'].apply(remove_spl_char)"
   ]
  },
  {
   "cell_type": "code",
   "execution_count": 16,
   "metadata": {},
   "outputs": [],
   "source": [
    "#stemming"
   ]
  },
  {
   "cell_type": "code",
   "execution_count": 17,
   "metadata": {},
   "outputs": [],
   "source": [
    "from nltk.stem import PorterStemmer"
   ]
  },
  {
   "cell_type": "code",
   "execution_count": 18,
   "metadata": {},
   "outputs": [],
   "source": [
    "ps = PorterStemmer()"
   ]
  },
  {
   "cell_type": "code",
   "execution_count": 19,
   "metadata": {},
   "outputs": [],
   "source": [
    "def get_stem(text):\n",
    "    lst = []\n",
    "    for i in text.split():\n",
    "        lst.append(ps.stem(i))\n",
    "        \n",
    "    return(\" \".join(lst))"
   ]
  },
  {
   "cell_type": "code",
   "execution_count": 20,
   "metadata": {},
   "outputs": [],
   "source": [
    "reviews['review'] = reviews['review'].apply(get_stem)"
   ]
  },
  {
   "cell_type": "code",
   "execution_count": 21,
   "metadata": {},
   "outputs": [
    {
     "data": {
      "text/plain": [
       "'one of the other review ha mention that after watch just 1 oz episod you ll be hook they are right as thi is exactli what happen with me the first thing that struck me about oz wa it brutal and unflinch scene of violenc which set in right from the word go trust me thi is not a show for the faint heart or timid thi show pull no punch with regard to drug sex or violenc it is hardcor in the classic use of the word it is call oz as that is the nicknam given to the oswald maximum secur state penitentari it focus mainli on emerald citi an experiment section of the prison where all the cell have glass front and face inward so privaci is not high on the agenda em citi is home to mani aryan muslim gangsta latino christian italian irish and more so scuffl death stare dodgi deal and shadi agreement are never far away i would say the main appeal of the show is due to the fact that it goe where other show wouldn t dare forget pretti pictur paint for mainstream audienc forget charm forget romanc oz doesn t mess around the first episod i ever saw struck me as so nasti it wa surreal i couldn t say i wa readi for it but as i watch more i develop a tast for oz and got accustom to the high level of graphic violenc not just violenc but injustic crook guard who ll be sold out for a nickel inmat who ll kill on order and get away with it well manner middl class inmat be turn into prison bitch due to their lack of street skill or prison experi watch oz you may becom comfort with what is uncomfort view that if you can get in touch with your darker side'"
      ]
     },
     "execution_count": 21,
     "metadata": {},
     "output_type": "execute_result"
    }
   ],
   "source": [
    "reviews['review'][0]"
   ]
  },
  {
   "cell_type": "code",
   "execution_count": 22,
   "metadata": {},
   "outputs": [],
   "source": [
    "import nltk"
   ]
  },
  {
   "cell_type": "code",
   "execution_count": 23,
   "metadata": {},
   "outputs": [],
   "source": [
    "# remove stopwords from the text which are not essential for prediction"
   ]
  },
  {
   "cell_type": "code",
   "execution_count": 24,
   "metadata": {},
   "outputs": [],
   "source": [
    "from nltk.corpus import stopwords"
   ]
  },
  {
   "cell_type": "code",
   "execution_count": 25,
   "metadata": {},
   "outputs": [],
   "source": [
    "# nltk.download('stopwords')"
   ]
  },
  {
   "cell_type": "code",
   "execution_count": 26,
   "metadata": {},
   "outputs": [],
   "source": [
    "stpwords  = stopwords.words('english')"
   ]
  },
  {
   "cell_type": "code",
   "execution_count": 27,
   "metadata": {},
   "outputs": [],
   "source": [
    "#convert text into vector form "
   ]
  },
  {
   "cell_type": "code",
   "execution_count": 28,
   "metadata": {},
   "outputs": [],
   "source": [
    "from sklearn.feature_extraction.text import CountVectorizer"
   ]
  },
  {
   "cell_type": "code",
   "execution_count": 29,
   "metadata": {},
   "outputs": [],
   "source": [
    "cv =CountVectorizer(stop_words='english',max_features=5000,ngram_range=(1, 2))"
   ]
  },
  {
   "cell_type": "code",
   "execution_count": 30,
   "metadata": {},
   "outputs": [],
   "source": [
    "X = cv.fit_transform(reviews['review']).toarray()"
   ]
  },
  {
   "cell_type": "code",
   "execution_count": 31,
   "metadata": {},
   "outputs": [],
   "source": [
    "y=reviews.iloc[:,1].values"
   ]
  },
  {
   "cell_type": "code",
   "execution_count": 32,
   "metadata": {},
   "outputs": [
    {
     "data": {
      "text/plain": [
       "array([[0, 0, 0, ..., 0, 0, 0],\n",
       "       [0, 0, 0, ..., 0, 0, 0],\n",
       "       [0, 0, 0, ..., 0, 0, 0],\n",
       "       ...,\n",
       "       [0, 2, 0, ..., 0, 0, 0],\n",
       "       [1, 0, 0, ..., 0, 0, 0],\n",
       "       [0, 1, 0, ..., 0, 0, 0]])"
      ]
     },
     "execution_count": 32,
     "metadata": {},
     "output_type": "execute_result"
    }
   ],
   "source": [
    "X"
   ]
  },
  {
   "cell_type": "code",
   "execution_count": 33,
   "metadata": {},
   "outputs": [],
   "source": [
    "#train the models"
   ]
  },
  {
   "cell_type": "code",
   "execution_count": 34,
   "metadata": {},
   "outputs": [],
   "source": [
    "from sklearn.model_selection import train_test_split"
   ]
  },
  {
   "cell_type": "code",
   "execution_count": 35,
   "metadata": {},
   "outputs": [],
   "source": [
    "X_train, X_test, y_train, y_test = train_test_split(X, y, test_size=0.30, random_state=42)"
   ]
  },
  {
   "cell_type": "code",
   "execution_count": 36,
   "metadata": {},
   "outputs": [],
   "source": [
    "from sklearn.metrics import accuracy_score"
   ]
  },
  {
   "cell_type": "code",
   "execution_count": 37,
   "metadata": {},
   "outputs": [],
   "source": [
    "from sklearn.naive_bayes import GaussianNB,MultinomialNB,BernoulliNB"
   ]
  },
  {
   "cell_type": "code",
   "execution_count": 38,
   "metadata": {},
   "outputs": [],
   "source": [
    "gb = GaussianNB()\n",
    "mb = MultinomialNB()\n",
    "bb = BernoulliNB()"
   ]
  },
  {
   "cell_type": "code",
   "execution_count": 39,
   "metadata": {},
   "outputs": [
    {
     "data": {
      "text/html": [
       "<style>#sk-container-id-1 {color: black;background-color: white;}#sk-container-id-1 pre{padding: 0;}#sk-container-id-1 div.sk-toggleable {background-color: white;}#sk-container-id-1 label.sk-toggleable__label {cursor: pointer;display: block;width: 100%;margin-bottom: 0;padding: 0.3em;box-sizing: border-box;text-align: center;}#sk-container-id-1 label.sk-toggleable__label-arrow:before {content: \"▸\";float: left;margin-right: 0.25em;color: #696969;}#sk-container-id-1 label.sk-toggleable__label-arrow:hover:before {color: black;}#sk-container-id-1 div.sk-estimator:hover label.sk-toggleable__label-arrow:before {color: black;}#sk-container-id-1 div.sk-toggleable__content {max-height: 0;max-width: 0;overflow: hidden;text-align: left;background-color: #f0f8ff;}#sk-container-id-1 div.sk-toggleable__content pre {margin: 0.2em;color: black;border-radius: 0.25em;background-color: #f0f8ff;}#sk-container-id-1 input.sk-toggleable__control:checked~div.sk-toggleable__content {max-height: 200px;max-width: 100%;overflow: auto;}#sk-container-id-1 input.sk-toggleable__control:checked~label.sk-toggleable__label-arrow:before {content: \"▾\";}#sk-container-id-1 div.sk-estimator input.sk-toggleable__control:checked~label.sk-toggleable__label {background-color: #d4ebff;}#sk-container-id-1 div.sk-label input.sk-toggleable__control:checked~label.sk-toggleable__label {background-color: #d4ebff;}#sk-container-id-1 input.sk-hidden--visually {border: 0;clip: rect(1px 1px 1px 1px);clip: rect(1px, 1px, 1px, 1px);height: 1px;margin: -1px;overflow: hidden;padding: 0;position: absolute;width: 1px;}#sk-container-id-1 div.sk-estimator {font-family: monospace;background-color: #f0f8ff;border: 1px dotted black;border-radius: 0.25em;box-sizing: border-box;margin-bottom: 0.5em;}#sk-container-id-1 div.sk-estimator:hover {background-color: #d4ebff;}#sk-container-id-1 div.sk-parallel-item::after {content: \"\";width: 100%;border-bottom: 1px solid gray;flex-grow: 1;}#sk-container-id-1 div.sk-label:hover label.sk-toggleable__label {background-color: #d4ebff;}#sk-container-id-1 div.sk-serial::before {content: \"\";position: absolute;border-left: 1px solid gray;box-sizing: border-box;top: 0;bottom: 0;left: 50%;z-index: 0;}#sk-container-id-1 div.sk-serial {display: flex;flex-direction: column;align-items: center;background-color: white;padding-right: 0.2em;padding-left: 0.2em;position: relative;}#sk-container-id-1 div.sk-item {position: relative;z-index: 1;}#sk-container-id-1 div.sk-parallel {display: flex;align-items: stretch;justify-content: center;background-color: white;position: relative;}#sk-container-id-1 div.sk-item::before, #sk-container-id-1 div.sk-parallel-item::before {content: \"\";position: absolute;border-left: 1px solid gray;box-sizing: border-box;top: 0;bottom: 0;left: 50%;z-index: -1;}#sk-container-id-1 div.sk-parallel-item {display: flex;flex-direction: column;z-index: 1;position: relative;background-color: white;}#sk-container-id-1 div.sk-parallel-item:first-child::after {align-self: flex-end;width: 50%;}#sk-container-id-1 div.sk-parallel-item:last-child::after {align-self: flex-start;width: 50%;}#sk-container-id-1 div.sk-parallel-item:only-child::after {width: 0;}#sk-container-id-1 div.sk-dashed-wrapped {border: 1px dashed gray;margin: 0 0.4em 0.5em 0.4em;box-sizing: border-box;padding-bottom: 0.4em;background-color: white;}#sk-container-id-1 div.sk-label label {font-family: monospace;font-weight: bold;display: inline-block;line-height: 1.2em;}#sk-container-id-1 div.sk-label-container {text-align: center;}#sk-container-id-1 div.sk-container {/* jupyter's `normalize.less` sets `[hidden] { display: none; }` but bootstrap.min.css set `[hidden] { display: none !important; }` so we also need the `!important` here to be able to override the default hidden behavior on the sphinx rendered scikit-learn.org. See: https://github.com/scikit-learn/scikit-learn/issues/21755 */display: inline-block !important;position: relative;}#sk-container-id-1 div.sk-text-repr-fallback {display: none;}</style><div id=\"sk-container-id-1\" class=\"sk-top-container\"><div class=\"sk-text-repr-fallback\"><pre>BernoulliNB()</pre><b>In a Jupyter environment, please rerun this cell to show the HTML representation or trust the notebook. <br />On GitHub, the HTML representation is unable to render, please try loading this page with nbviewer.org.</b></div><div class=\"sk-container\" hidden><div class=\"sk-item\"><div class=\"sk-estimator sk-toggleable\"><input class=\"sk-toggleable__control sk-hidden--visually\" id=\"sk-estimator-id-1\" type=\"checkbox\" checked><label for=\"sk-estimator-id-1\" class=\"sk-toggleable__label sk-toggleable__label-arrow\">BernoulliNB</label><div class=\"sk-toggleable__content\"><pre>BernoulliNB()</pre></div></div></div></div></div>"
      ],
      "text/plain": [
       "BernoulliNB()"
      ]
     },
     "execution_count": 39,
     "metadata": {},
     "output_type": "execute_result"
    }
   ],
   "source": [
    "gb.fit(X_train,y_train)\n",
    "mb.fit(X_train,y_train)\n",
    "bb.fit(X_train,y_train)"
   ]
  },
  {
   "cell_type": "code",
   "execution_count": 40,
   "metadata": {},
   "outputs": [],
   "source": [
    "y_pred = gb.predict(X_test)\n",
    "y_pred1 = mb.predict(X_test)\n",
    "y_pred2 = bb.predict(X_test)"
   ]
  },
  {
   "cell_type": "code",
   "execution_count": 41,
   "metadata": {},
   "outputs": [
    {
     "name": "stdout",
     "output_type": "stream",
     "text": [
      "0.6445182724252492\n",
      "0.7906976744186046\n",
      "0.7873754152823921\n"
     ]
    }
   ],
   "source": [
    "print(accuracy_score(y_test, y_pred))\n",
    "print(accuracy_score(y_test, y_pred1))\n",
    "print(accuracy_score(y_test, y_pred2))"
   ]
  },
  {
   "cell_type": "code",
   "execution_count": 42,
   "metadata": {},
   "outputs": [
    {
     "data": {
      "text/html": [
       "<div>\n",
       "<style scoped>\n",
       "    .dataframe tbody tr th:only-of-type {\n",
       "        vertical-align: middle;\n",
       "    }\n",
       "\n",
       "    .dataframe tbody tr th {\n",
       "        vertical-align: top;\n",
       "    }\n",
       "\n",
       "    .dataframe thead th {\n",
       "        text-align: right;\n",
       "    }\n",
       "</style>\n",
       "<table border=\"1\" class=\"dataframe\">\n",
       "  <thead>\n",
       "    <tr style=\"text-align: right;\">\n",
       "      <th></th>\n",
       "      <th>id</th>\n",
       "      <th>title</th>\n",
       "      <th>tag</th>\n",
       "    </tr>\n",
       "  </thead>\n",
       "  <tbody>\n",
       "    <tr>\n",
       "      <th>0</th>\n",
       "      <td>19995</td>\n",
       "      <td>Avatar</td>\n",
       "      <td>action adventur fantasi sciencefict culturecla...</td>\n",
       "    </tr>\n",
       "    <tr>\n",
       "      <th>1</th>\n",
       "      <td>285</td>\n",
       "      <td>Pirates of the Caribbean: At World's End</td>\n",
       "      <td>adventur fantasi action ocean drugabus exotici...</td>\n",
       "    </tr>\n",
       "    <tr>\n",
       "      <th>2</th>\n",
       "      <td>206647</td>\n",
       "      <td>Spectre</td>\n",
       "      <td>action adventur crime spi basedonnovel secreta...</td>\n",
       "    </tr>\n",
       "    <tr>\n",
       "      <th>3</th>\n",
       "      <td>49026</td>\n",
       "      <td>The Dark Knight Rises</td>\n",
       "      <td>action crime drama thriller dccomic crimefight...</td>\n",
       "    </tr>\n",
       "    <tr>\n",
       "      <th>4</th>\n",
       "      <td>49529</td>\n",
       "      <td>John Carter</td>\n",
       "      <td>action adventur sciencefict basedonnovel mar m...</td>\n",
       "    </tr>\n",
       "    <tr>\n",
       "      <th>...</th>\n",
       "      <td>...</td>\n",
       "      <td>...</td>\n",
       "      <td>...</td>\n",
       "    </tr>\n",
       "    <tr>\n",
       "      <th>6472</th>\n",
       "      <td>696157</td>\n",
       "      <td>I Wanna Dance with Somebody</td>\n",
       "      <td>naomiacki ashtonsand stanleytucci drama histor...</td>\n",
       "    </tr>\n",
       "    <tr>\n",
       "      <th>6473</th>\n",
       "      <td>762735</td>\n",
       "      <td>Wildcat</td>\n",
       "      <td>melissalesh drama thriller war melissa lesh, t...</td>\n",
       "    </tr>\n",
       "    <tr>\n",
       "      <th>6474</th>\n",
       "      <td>661374</td>\n",
       "      <td>Glass Onion: A Knives Out Mystery</td>\n",
       "      <td>danielcraig edwardnorton janellemoná kathrynha...</td>\n",
       "    </tr>\n",
       "    <tr>\n",
       "      <th>6475</th>\n",
       "      <td>800815</td>\n",
       "      <td>The Pale Blue Eye</td>\n",
       "      <td>christianbal harrymel gilliananderson lucyboyn...</td>\n",
       "    </tr>\n",
       "    <tr>\n",
       "      <th>6476</th>\n",
       "      <td>9381</td>\n",
       "      <td>Babylon</td>\n",
       "      <td>bradpitt margotrobbi diegocalva tobeymaguir ka...</td>\n",
       "    </tr>\n",
       "  </tbody>\n",
       "</table>\n",
       "<p>6477 rows × 3 columns</p>\n",
       "</div>"
      ],
      "text/plain": [
       "          id                                     title  \\\n",
       "0      19995                                    Avatar   \n",
       "1        285  Pirates of the Caribbean: At World's End   \n",
       "2     206647                                   Spectre   \n",
       "3      49026                     The Dark Knight Rises   \n",
       "4      49529                               John Carter   \n",
       "...      ...                                       ...   \n",
       "6472  696157               I Wanna Dance with Somebody   \n",
       "6473  762735                                   Wildcat   \n",
       "6474  661374         Glass Onion: A Knives Out Mystery   \n",
       "6475  800815                         The Pale Blue Eye   \n",
       "6476    9381                                   Babylon   \n",
       "\n",
       "                                                    tag  \n",
       "0     action adventur fantasi sciencefict culturecla...  \n",
       "1     adventur fantasi action ocean drugabus exotici...  \n",
       "2     action adventur crime spi basedonnovel secreta...  \n",
       "3     action crime drama thriller dccomic crimefight...  \n",
       "4     action adventur sciencefict basedonnovel mar m...  \n",
       "...                                                 ...  \n",
       "6472  naomiacki ashtonsand stanleytucci drama histor...  \n",
       "6473  melissalesh drama thriller war melissa lesh, t...  \n",
       "6474  danielcraig edwardnorton janellemoná kathrynha...  \n",
       "6475  christianbal harrymel gilliananderson lucyboyn...  \n",
       "6476  bradpitt margotrobbi diegocalva tobeymaguir ka...  \n",
       "\n",
       "[6477 rows x 3 columns]"
      ]
     },
     "execution_count": 42,
     "metadata": {},
     "output_type": "execute_result"
    }
   ],
   "source": [
    "movie"
   ]
  },
  {
   "cell_type": "code",
   "execution_count": 43,
   "metadata": {},
   "outputs": [],
   "source": [
    "#lets fetch reviews of top 5 movies:"
   ]
  },
  {
   "cell_type": "code",
   "execution_count": 44,
   "metadata": {},
   "outputs": [],
   "source": [
    "movie_review = movie.loc[:5]"
   ]
  },
  {
   "cell_type": "code",
   "execution_count": 45,
   "metadata": {},
   "outputs": [],
   "source": [
    "import config"
   ]
  },
  {
   "cell_type": "code",
   "execution_count": 46,
   "metadata": {},
   "outputs": [],
   "source": [
    "api_key = config.MOVIE_API_KEY\n",
    "dct_comment = {'title':[],'review':[]}\n",
    "\n",
    "for row in movie_review.iterrows():\n",
    "#     get reviews using TMBD api\n",
    "    title = row[1]['title']\n",
    "    movie_id = row[1]['id']\n",
    "    url = f'https://api.themoviedb.org/3/movie/{movie_id}/reviews?api_key={api_key}&language=en-US&page=1'\n",
    "    response = requests.get(url).json()\n",
    "    for result in response['results']:\n",
    "        dct_comment['title'].append(title)\n",
    "        dct_comment['review'].append(result['content'])\n",
    "    \n"
   ]
  },
  {
   "cell_type": "code",
   "execution_count": 47,
   "metadata": {},
   "outputs": [],
   "source": [
    "df_review = pd.DataFrame(dct_comment)"
   ]
  },
  {
   "cell_type": "code",
   "execution_count": 48,
   "metadata": {},
   "outputs": [
    {
     "data": {
      "text/html": [
       "<div>\n",
       "<style scoped>\n",
       "    .dataframe tbody tr th:only-of-type {\n",
       "        vertical-align: middle;\n",
       "    }\n",
       "\n",
       "    .dataframe tbody tr th {\n",
       "        vertical-align: top;\n",
       "    }\n",
       "\n",
       "    .dataframe thead th {\n",
       "        text-align: right;\n",
       "    }\n",
       "</style>\n",
       "<table border=\"1\" class=\"dataframe\">\n",
       "  <thead>\n",
       "    <tr style=\"text-align: right;\">\n",
       "      <th></th>\n",
       "      <th>title</th>\n",
       "      <th>review</th>\n",
       "    </tr>\n",
       "  </thead>\n",
       "  <tbody>\n",
       "    <tr>\n",
       "      <th>0</th>\n",
       "      <td>Avatar</td>\n",
       "      <td>Avatar is an overwhelming, immersive spectacle...</td>\n",
       "    </tr>\n",
       "    <tr>\n",
       "      <th>1</th>\n",
       "      <td>Avatar</td>\n",
       "      <td>It's cinema Jim, but not as we know it. \\r\\n\\r...</td>\n",
       "    </tr>\n",
       "    <tr>\n",
       "      <th>2</th>\n",
       "      <td>Spectre</td>\n",
       "      <td>&lt;a href=\"http://www.cutprintfilm.com/reviews/s...</td>\n",
       "    </tr>\n",
       "    <tr>\n",
       "      <th>3</th>\n",
       "      <td>Spectre</td>\n",
       "      <td>Well, cinema’s most treasured and resilient Br...</td>\n",
       "    </tr>\n",
       "    <tr>\n",
       "      <th>4</th>\n",
       "      <td>Spectre</td>\n",
       "      <td>A \"correct\" Bond movie. All the expected stere...</td>\n",
       "    </tr>\n",
       "    <tr>\n",
       "      <th>5</th>\n",
       "      <td>Spectre</td>\n",
       "      <td>&gt; Not your usual Bond movie, but still a good ...</td>\n",
       "    </tr>\n",
       "    <tr>\n",
       "      <th>6</th>\n",
       "      <td>Spectre</td>\n",
       "      <td>FULL SPOILER-FREE REVIEW @ https://www.msbrevi...</td>\n",
       "    </tr>\n",
       "    <tr>\n",
       "      <th>7</th>\n",
       "      <td>The Dark Knight Rises</td>\n",
       "      <td>I felt like this was a tremendous end to Nolan...</td>\n",
       "    </tr>\n",
       "    <tr>\n",
       "      <th>8</th>\n",
       "      <td>The Dark Knight Rises</td>\n",
       "      <td>I personally thought this film is on par if no...</td>\n",
       "    </tr>\n",
       "    <tr>\n",
       "      <th>9</th>\n",
       "      <td>The Dark Knight Rises</td>\n",
       "      <td>The Dark Knight Rises is one of the best movie...</td>\n",
       "    </tr>\n",
       "    <tr>\n",
       "      <th>10</th>\n",
       "      <td>The Dark Knight Rises</td>\n",
       "      <td>No doubt that the movie is one of the best mov...</td>\n",
       "    </tr>\n",
       "    <tr>\n",
       "      <th>11</th>\n",
       "      <td>The Dark Knight Rises</td>\n",
       "      <td>While it's clearly not as superlative as its f...</td>\n",
       "    </tr>\n",
       "    <tr>\n",
       "      <th>12</th>\n",
       "      <td>The Dark Knight Rises</td>\n",
       "      <td>So here we have it. The end of a trilogy, the ...</td>\n",
       "    </tr>\n",
       "    <tr>\n",
       "      <th>13</th>\n",
       "      <td>The Dark Knight Rises</td>\n",
       "      <td>Batman was one of my childhood heroes from the...</td>\n",
       "    </tr>\n",
       "    <tr>\n",
       "      <th>14</th>\n",
       "      <td>The Dark Knight Rises</td>\n",
       "      <td>\"And when it is done, and Gotham is in ashes, ...</td>\n",
       "    </tr>\n",
       "    <tr>\n",
       "      <th>15</th>\n",
       "      <td>The Dark Knight Rises</td>\n",
       "      <td>Even though the plot feels messier than the pr...</td>\n",
       "    </tr>\n",
       "    <tr>\n",
       "      <th>16</th>\n",
       "      <td>The Dark Knight Rises</td>\n",
       "      <td>Tom Hardy is superb in this denouement to Chri...</td>\n",
       "    </tr>\n",
       "    <tr>\n",
       "      <th>17</th>\n",
       "      <td>John Carter</td>\n",
       "      <td>Totally forgettable and full of stereotypes</td>\n",
       "    </tr>\n",
       "    <tr>\n",
       "      <th>18</th>\n",
       "      <td>John Carter</td>\n",
       "      <td>Edgar Rice Burroughs wrote his series of John ...</td>\n",
       "    </tr>\n",
       "    <tr>\n",
       "      <th>19</th>\n",
       "      <td>John Carter</td>\n",
       "      <td>We sat down and watched this movie on Blu-ray ...</td>\n",
       "    </tr>\n",
       "    <tr>\n",
       "      <th>20</th>\n",
       "      <td>John Carter</td>\n",
       "      <td>Unfulfilled potential, still narrowly liked it...</td>\n",
       "    </tr>\n",
       "    <tr>\n",
       "      <th>21</th>\n",
       "      <td>Spider-Man 3</td>\n",
       "      <td>After the success of the first two Spider-Man ...</td>\n",
       "    </tr>\n",
       "    <tr>\n",
       "      <th>22</th>\n",
       "      <td>Spider-Man 3</td>\n",
       "      <td>This movie is about Spidey's revenge and  tran...</td>\n",
       "    </tr>\n",
       "    <tr>\n",
       "      <th>23</th>\n",
       "      <td>Spider-Man 3</td>\n",
       "      <td>Tobey Maguire makes such a great Spider-Man, h...</td>\n",
       "    </tr>\n",
       "    <tr>\n",
       "      <th>24</th>\n",
       "      <td>Spider-Man 3</td>\n",
       "      <td>So much emotion in this movie! What a way to e...</td>\n",
       "    </tr>\n",
       "    <tr>\n",
       "      <th>25</th>\n",
       "      <td>Spider-Man 3</td>\n",
       "      <td>The third and final film to one of the few tri...</td>\n",
       "    </tr>\n",
       "    <tr>\n",
       "      <th>26</th>\n",
       "      <td>Spider-Man 3</td>\n",
       "      <td>I know this is supposed to have a darker tone ...</td>\n",
       "    </tr>\n",
       "    <tr>\n",
       "      <th>27</th>\n",
       "      <td>Spider-Man 3</td>\n",
       "      <td>My wife isn't that big of a superhero fanatic ...</td>\n",
       "    </tr>\n",
       "    <tr>\n",
       "      <th>28</th>\n",
       "      <td>Spider-Man 3</td>\n",
       "      <td>It still puzzles me to this day why this felt ...</td>\n",
       "    </tr>\n",
       "    <tr>\n",
       "      <th>29</th>\n",
       "      <td>Spider-Man 3</td>\n",
       "      <td>Now that I think about it, this film just had ...</td>\n",
       "    </tr>\n",
       "    <tr>\n",
       "      <th>30</th>\n",
       "      <td>Spider-Man 3</td>\n",
       "      <td>Out of all the Tobey Maguire Spider Man films,...</td>\n",
       "    </tr>\n",
       "    <tr>\n",
       "      <th>31</th>\n",
       "      <td>Spider-Man 3</td>\n",
       "      <td>I was satisfied, but that already was a disapp...</td>\n",
       "    </tr>\n",
       "    <tr>\n",
       "      <th>32</th>\n",
       "      <td>Spider-Man 3</td>\n",
       "      <td>Although I'd say that Sandman's acting was pre...</td>\n",
       "    </tr>\n",
       "    <tr>\n",
       "      <th>33</th>\n",
       "      <td>Spider-Man 3</td>\n",
       "      <td>Spider Man 3 is still pretty good but when you...</td>\n",
       "    </tr>\n",
       "    <tr>\n",
       "      <th>34</th>\n",
       "      <td>Spider-Man 3</td>\n",
       "      <td>Man I wish they didn't have to kill off Harry ...</td>\n",
       "    </tr>\n",
       "    <tr>\n",
       "      <th>35</th>\n",
       "      <td>Spider-Man 3</td>\n",
       "      <td>They had too many concepts that they tried to ...</td>\n",
       "    </tr>\n",
       "    <tr>\n",
       "      <th>36</th>\n",
       "      <td>Spider-Man 3</td>\n",
       "      <td>Tobey Maguire isn't good at being bad. Don't g...</td>\n",
       "    </tr>\n",
       "    <tr>\n",
       "      <th>37</th>\n",
       "      <td>Spider-Man 3</td>\n",
       "      <td>I really tried my best to not hate it but it's...</td>\n",
       "    </tr>\n",
       "    <tr>\n",
       "      <th>38</th>\n",
       "      <td>Spider-Man 3</td>\n",
       "      <td>It felt like a totally different Spider-Man. I...</td>\n",
       "    </tr>\n",
       "    <tr>\n",
       "      <th>39</th>\n",
       "      <td>Spider-Man 3</td>\n",
       "      <td>Great action sequences and character developme...</td>\n",
       "    </tr>\n",
       "    <tr>\n",
       "      <th>40</th>\n",
       "      <td>Spider-Man 3</td>\n",
       "      <td>Yes, there was too much to process, but I stil...</td>\n",
       "    </tr>\n",
       "  </tbody>\n",
       "</table>\n",
       "</div>"
      ],
      "text/plain": [
       "                    title                                             review\n",
       "0                  Avatar  Avatar is an overwhelming, immersive spectacle...\n",
       "1                  Avatar  It's cinema Jim, but not as we know it. \\r\\n\\r...\n",
       "2                 Spectre  <a href=\"http://www.cutprintfilm.com/reviews/s...\n",
       "3                 Spectre  Well, cinema’s most treasured and resilient Br...\n",
       "4                 Spectre  A \"correct\" Bond movie. All the expected stere...\n",
       "5                 Spectre  > Not your usual Bond movie, but still a good ...\n",
       "6                 Spectre  FULL SPOILER-FREE REVIEW @ https://www.msbrevi...\n",
       "7   The Dark Knight Rises  I felt like this was a tremendous end to Nolan...\n",
       "8   The Dark Knight Rises  I personally thought this film is on par if no...\n",
       "9   The Dark Knight Rises  The Dark Knight Rises is one of the best movie...\n",
       "10  The Dark Knight Rises  No doubt that the movie is one of the best mov...\n",
       "11  The Dark Knight Rises  While it's clearly not as superlative as its f...\n",
       "12  The Dark Knight Rises  So here we have it. The end of a trilogy, the ...\n",
       "13  The Dark Knight Rises  Batman was one of my childhood heroes from the...\n",
       "14  The Dark Knight Rises  \"And when it is done, and Gotham is in ashes, ...\n",
       "15  The Dark Knight Rises  Even though the plot feels messier than the pr...\n",
       "16  The Dark Knight Rises  Tom Hardy is superb in this denouement to Chri...\n",
       "17            John Carter        Totally forgettable and full of stereotypes\n",
       "18            John Carter  Edgar Rice Burroughs wrote his series of John ...\n",
       "19            John Carter  We sat down and watched this movie on Blu-ray ...\n",
       "20            John Carter  Unfulfilled potential, still narrowly liked it...\n",
       "21           Spider-Man 3  After the success of the first two Spider-Man ...\n",
       "22           Spider-Man 3  This movie is about Spidey's revenge and  tran...\n",
       "23           Spider-Man 3  Tobey Maguire makes such a great Spider-Man, h...\n",
       "24           Spider-Man 3  So much emotion in this movie! What a way to e...\n",
       "25           Spider-Man 3  The third and final film to one of the few tri...\n",
       "26           Spider-Man 3  I know this is supposed to have a darker tone ...\n",
       "27           Spider-Man 3  My wife isn't that big of a superhero fanatic ...\n",
       "28           Spider-Man 3  It still puzzles me to this day why this felt ...\n",
       "29           Spider-Man 3  Now that I think about it, this film just had ...\n",
       "30           Spider-Man 3  Out of all the Tobey Maguire Spider Man films,...\n",
       "31           Spider-Man 3  I was satisfied, but that already was a disapp...\n",
       "32           Spider-Man 3  Although I'd say that Sandman's acting was pre...\n",
       "33           Spider-Man 3  Spider Man 3 is still pretty good but when you...\n",
       "34           Spider-Man 3  Man I wish they didn't have to kill off Harry ...\n",
       "35           Spider-Man 3  They had too many concepts that they tried to ...\n",
       "36           Spider-Man 3  Tobey Maguire isn't good at being bad. Don't g...\n",
       "37           Spider-Man 3  I really tried my best to not hate it but it's...\n",
       "38           Spider-Man 3  It felt like a totally different Spider-Man. I...\n",
       "39           Spider-Man 3  Great action sequences and character developme...\n",
       "40           Spider-Man 3  Yes, there was too much to process, but I stil..."
      ]
     },
     "execution_count": 48,
     "metadata": {},
     "output_type": "execute_result"
    }
   ],
   "source": [
    "df_review"
   ]
  },
  {
   "cell_type": "code",
   "execution_count": 49,
   "metadata": {},
   "outputs": [],
   "source": [
    "# Removing special characters"
   ]
  },
  {
   "cell_type": "code",
   "execution_count": 50,
   "metadata": {},
   "outputs": [],
   "source": [
    "df_review['review']= df_review['review'].apply(remove_spl_char)"
   ]
  },
  {
   "cell_type": "code",
   "execution_count": 51,
   "metadata": {},
   "outputs": [],
   "source": [
    "#perform stemming"
   ]
  },
  {
   "cell_type": "code",
   "execution_count": 52,
   "metadata": {},
   "outputs": [],
   "source": [
    "df_review['review'] = df_review['review'].apply(get_stem)"
   ]
  },
  {
   "cell_type": "code",
   "execution_count": 53,
   "metadata": {},
   "outputs": [],
   "source": [
    "X_pred = cv.transform(df_review['review']).toarray()"
   ]
  },
  {
   "cell_type": "code",
   "execution_count": 54,
   "metadata": {},
   "outputs": [
    {
     "data": {
      "text/plain": [
       "array([[0, 0, 0, ..., 0, 0, 0],\n",
       "       [0, 1, 0, ..., 0, 0, 0],\n",
       "       [0, 0, 0, ..., 0, 0, 0],\n",
       "       ...,\n",
       "       [0, 0, 0, ..., 0, 0, 0],\n",
       "       [0, 0, 0, ..., 0, 0, 0],\n",
       "       [0, 0, 0, ..., 0, 0, 0]])"
      ]
     },
     "execution_count": 54,
     "metadata": {},
     "output_type": "execute_result"
    }
   ],
   "source": [
    "X_pred"
   ]
  },
  {
   "cell_type": "code",
   "execution_count": 55,
   "metadata": {},
   "outputs": [],
   "source": [
    "#predict sentiment behind the reviews"
   ]
  },
  {
   "cell_type": "code",
   "execution_count": 56,
   "metadata": {},
   "outputs": [],
   "source": [
    "y_pred_sentiment = mb.predict(X_pred)"
   ]
  },
  {
   "cell_type": "code",
   "execution_count": 57,
   "metadata": {},
   "outputs": [],
   "source": [
    "df_review['sentiment'] = y_pred_sentiment"
   ]
  },
  {
   "cell_type": "code",
   "execution_count": 58,
   "metadata": {},
   "outputs": [
    {
     "data": {
      "text/html": [
       "<div>\n",
       "<style scoped>\n",
       "    .dataframe tbody tr th:only-of-type {\n",
       "        vertical-align: middle;\n",
       "    }\n",
       "\n",
       "    .dataframe tbody tr th {\n",
       "        vertical-align: top;\n",
       "    }\n",
       "\n",
       "    .dataframe thead th {\n",
       "        text-align: right;\n",
       "    }\n",
       "</style>\n",
       "<table border=\"1\" class=\"dataframe\">\n",
       "  <thead>\n",
       "    <tr style=\"text-align: right;\">\n",
       "      <th></th>\n",
       "      <th>title</th>\n",
       "      <th>review</th>\n",
       "      <th>sentiment</th>\n",
       "    </tr>\n",
       "  </thead>\n",
       "  <tbody>\n",
       "    <tr>\n",
       "      <th>0</th>\n",
       "      <td>Avatar</td>\n",
       "      <td>avatar is an overwhelm immers spectacl the sta...</td>\n",
       "      <td>negative</td>\n",
       "    </tr>\n",
       "    <tr>\n",
       "      <th>1</th>\n",
       "      <td>Avatar</td>\n",
       "      <td>It s cinema jim but not as we know it So here ...</td>\n",
       "      <td>positive</td>\n",
       "    </tr>\n",
       "    <tr>\n",
       "      <th>2</th>\n",
       "      <td>Spectre</td>\n",
       "      <td>a href http www cutprintfilm com review spectr...</td>\n",
       "      <td>positive</td>\n",
       "    </tr>\n",
       "    <tr>\n",
       "      <th>3</th>\n",
       "      <td>Spectre</td>\n",
       "      <td>well cinema s most treasur and resili british ...</td>\n",
       "      <td>positive</td>\n",
       "    </tr>\n",
       "    <tr>\n",
       "      <th>4</th>\n",
       "      <td>Spectre</td>\n",
       "      <td>A correct bond movi all the expect stereotyp a...</td>\n",
       "      <td>negative</td>\n",
       "    </tr>\n",
       "    <tr>\n",
       "      <th>5</th>\n",
       "      <td>Spectre</td>\n",
       "      <td>not your usual bond movi but still a good ente...</td>\n",
       "      <td>positive</td>\n",
       "    </tr>\n",
       "    <tr>\n",
       "      <th>6</th>\n",
       "      <td>Spectre</td>\n",
       "      <td>full spoiler free review http www msbreview co...</td>\n",
       "      <td>positive</td>\n",
       "    </tr>\n",
       "    <tr>\n",
       "      <th>7</th>\n",
       "      <td>The Dark Knight Rises</td>\n",
       "      <td>I felt like thi wa a tremend end to nolan s ba...</td>\n",
       "      <td>positive</td>\n",
       "    </tr>\n",
       "    <tr>\n",
       "      <th>8</th>\n",
       "      <td>The Dark Knight Rises</td>\n",
       "      <td>I person thought thi film is on par if not bet...</td>\n",
       "      <td>negative</td>\n",
       "    </tr>\n",
       "    <tr>\n",
       "      <th>9</th>\n",
       "      <td>The Dark Knight Rises</td>\n",
       "      <td>the dark knight rise is one of the best movi t...</td>\n",
       "      <td>positive</td>\n",
       "    </tr>\n",
       "    <tr>\n",
       "      <th>10</th>\n",
       "      <td>The Dark Knight Rises</td>\n",
       "      <td>No doubt that the movi is one of the best movi...</td>\n",
       "      <td>positive</td>\n",
       "    </tr>\n",
       "    <tr>\n",
       "      <th>11</th>\n",
       "      <td>The Dark Knight Rises</td>\n",
       "      <td>while it s clearli not as superl as it famou p...</td>\n",
       "      <td>positive</td>\n",
       "    </tr>\n",
       "    <tr>\n",
       "      <th>12</th>\n",
       "      <td>The Dark Knight Rises</td>\n",
       "      <td>So here we have it the end of a trilog the end...</td>\n",
       "      <td>negative</td>\n",
       "    </tr>\n",
       "    <tr>\n",
       "      <th>13</th>\n",
       "      <td>The Dark Knight Rises</td>\n",
       "      <td>batman wa one of my childhood hero from the co...</td>\n",
       "      <td>negative</td>\n",
       "    </tr>\n",
       "    <tr>\n",
       "      <th>14</th>\n",
       "      <td>The Dark Knight Rises</td>\n",
       "      <td>and when it is done and gotham is in ash then ...</td>\n",
       "      <td>positive</td>\n",
       "    </tr>\n",
       "    <tr>\n",
       "      <th>15</th>\n",
       "      <td>The Dark Knight Rises</td>\n",
       "      <td>even though the plot feel messier than the pre...</td>\n",
       "      <td>positive</td>\n",
       "    </tr>\n",
       "    <tr>\n",
       "      <th>16</th>\n",
       "      <td>The Dark Knight Rises</td>\n",
       "      <td>tom hardi is superb in thi denouement to chris...</td>\n",
       "      <td>positive</td>\n",
       "    </tr>\n",
       "    <tr>\n",
       "      <th>17</th>\n",
       "      <td>John Carter</td>\n",
       "      <td>total forgett and full of stereotyp</td>\n",
       "      <td>negative</td>\n",
       "    </tr>\n",
       "    <tr>\n",
       "      <th>18</th>\n",
       "      <td>John Carter</td>\n",
       "      <td>edgar rice burrough wrote hi seri of john cart...</td>\n",
       "      <td>positive</td>\n",
       "    </tr>\n",
       "    <tr>\n",
       "      <th>19</th>\n",
       "      <td>John Carter</td>\n",
       "      <td>We sat down and watch thi movi on blu ray yest...</td>\n",
       "      <td>negative</td>\n",
       "    </tr>\n",
       "    <tr>\n",
       "      <th>20</th>\n",
       "      <td>John Carter</td>\n",
       "      <td>unfulfil potenti still narrowli like it em joh...</td>\n",
       "      <td>negative</td>\n",
       "    </tr>\n",
       "    <tr>\n",
       "      <th>21</th>\n",
       "      <td>Spider-Man 3</td>\n",
       "      <td>after the success of the first two spider man ...</td>\n",
       "      <td>negative</td>\n",
       "    </tr>\n",
       "    <tr>\n",
       "      <th>22</th>\n",
       "      <td>Spider-Man 3</td>\n",
       "      <td>thi movi is about spidey s reveng and transfor...</td>\n",
       "      <td>negative</td>\n",
       "    </tr>\n",
       "    <tr>\n",
       "      <th>23</th>\n",
       "      <td>Spider-Man 3</td>\n",
       "      <td>tobey maguir make such a great spider man hand...</td>\n",
       "      <td>negative</td>\n",
       "    </tr>\n",
       "    <tr>\n",
       "      <th>24</th>\n",
       "      <td>Spider-Man 3</td>\n",
       "      <td>So much emot in thi movi what a way to end a t...</td>\n",
       "      <td>positive</td>\n",
       "    </tr>\n",
       "    <tr>\n",
       "      <th>25</th>\n",
       "      <td>Spider-Man 3</td>\n",
       "      <td>the third and final film to one of the few tri...</td>\n",
       "      <td>negative</td>\n",
       "    </tr>\n",
       "    <tr>\n",
       "      <th>26</th>\n",
       "      <td>Spider-Man 3</td>\n",
       "      <td>I know thi is suppos to have a darker tone tha...</td>\n",
       "      <td>negative</td>\n",
       "    </tr>\n",
       "    <tr>\n",
       "      <th>27</th>\n",
       "      <td>Spider-Man 3</td>\n",
       "      <td>My wife isn t that big of a superhero fanat bu...</td>\n",
       "      <td>negative</td>\n",
       "    </tr>\n",
       "    <tr>\n",
       "      <th>28</th>\n",
       "      <td>Spider-Man 3</td>\n",
       "      <td>It still puzzl me to thi day whi thi felt like...</td>\n",
       "      <td>negative</td>\n",
       "    </tr>\n",
       "    <tr>\n",
       "      <th>29</th>\n",
       "      <td>Spider-Man 3</td>\n",
       "      <td>now that I think about it thi film just had to...</td>\n",
       "      <td>negative</td>\n",
       "    </tr>\n",
       "    <tr>\n",
       "      <th>30</th>\n",
       "      <td>Spider-Man 3</td>\n",
       "      <td>out of all the tobey maguir spider man film th...</td>\n",
       "      <td>positive</td>\n",
       "    </tr>\n",
       "    <tr>\n",
       "      <th>31</th>\n",
       "      <td>Spider-Man 3</td>\n",
       "      <td>I wa satisfi but that alreadi wa a disappoint ...</td>\n",
       "      <td>negative</td>\n",
       "    </tr>\n",
       "    <tr>\n",
       "      <th>32</th>\n",
       "      <td>Spider-Man 3</td>\n",
       "      <td>although I d say that sandman s act wa pretti ...</td>\n",
       "      <td>negative</td>\n",
       "    </tr>\n",
       "    <tr>\n",
       "      <th>33</th>\n",
       "      <td>Spider-Man 3</td>\n",
       "      <td>spider man 3 is still pretti good but when you...</td>\n",
       "      <td>positive</td>\n",
       "    </tr>\n",
       "    <tr>\n",
       "      <th>34</th>\n",
       "      <td>Spider-Man 3</td>\n",
       "      <td>man I wish they didn t have to kill off harri ...</td>\n",
       "      <td>negative</td>\n",
       "    </tr>\n",
       "    <tr>\n",
       "      <th>35</th>\n",
       "      <td>Spider-Man 3</td>\n",
       "      <td>they had too mani concept that they tri to cra...</td>\n",
       "      <td>negative</td>\n",
       "    </tr>\n",
       "    <tr>\n",
       "      <th>36</th>\n",
       "      <td>Spider-Man 3</td>\n",
       "      <td>tobey maguir isn t good at be bad don t get me...</td>\n",
       "      <td>negative</td>\n",
       "    </tr>\n",
       "    <tr>\n",
       "      <th>37</th>\n",
       "      <td>Spider-Man 3</td>\n",
       "      <td>I realli tri my best to not hate it but it s h...</td>\n",
       "      <td>negative</td>\n",
       "    </tr>\n",
       "    <tr>\n",
       "      <th>38</th>\n",
       "      <td>Spider-Man 3</td>\n",
       "      <td>It felt like a total differ spider man It s su...</td>\n",
       "      <td>negative</td>\n",
       "    </tr>\n",
       "    <tr>\n",
       "      <th>39</th>\n",
       "      <td>Spider-Man 3</td>\n",
       "      <td>great action sequenc and charact develop is lo...</td>\n",
       "      <td>negative</td>\n",
       "    </tr>\n",
       "    <tr>\n",
       "      <th>40</th>\n",
       "      <td>Spider-Man 3</td>\n",
       "      <td>ye there wa too much to process but I still th...</td>\n",
       "      <td>positive</td>\n",
       "    </tr>\n",
       "  </tbody>\n",
       "</table>\n",
       "</div>"
      ],
      "text/plain": [
       "                    title                                             review  \\\n",
       "0                  Avatar  avatar is an overwhelm immers spectacl the sta...   \n",
       "1                  Avatar  It s cinema jim but not as we know it So here ...   \n",
       "2                 Spectre  a href http www cutprintfilm com review spectr...   \n",
       "3                 Spectre  well cinema s most treasur and resili british ...   \n",
       "4                 Spectre  A correct bond movi all the expect stereotyp a...   \n",
       "5                 Spectre  not your usual bond movi but still a good ente...   \n",
       "6                 Spectre  full spoiler free review http www msbreview co...   \n",
       "7   The Dark Knight Rises  I felt like thi wa a tremend end to nolan s ba...   \n",
       "8   The Dark Knight Rises  I person thought thi film is on par if not bet...   \n",
       "9   The Dark Knight Rises  the dark knight rise is one of the best movi t...   \n",
       "10  The Dark Knight Rises  No doubt that the movi is one of the best movi...   \n",
       "11  The Dark Knight Rises  while it s clearli not as superl as it famou p...   \n",
       "12  The Dark Knight Rises  So here we have it the end of a trilog the end...   \n",
       "13  The Dark Knight Rises  batman wa one of my childhood hero from the co...   \n",
       "14  The Dark Knight Rises  and when it is done and gotham is in ash then ...   \n",
       "15  The Dark Knight Rises  even though the plot feel messier than the pre...   \n",
       "16  The Dark Knight Rises  tom hardi is superb in thi denouement to chris...   \n",
       "17            John Carter                total forgett and full of stereotyp   \n",
       "18            John Carter  edgar rice burrough wrote hi seri of john cart...   \n",
       "19            John Carter  We sat down and watch thi movi on blu ray yest...   \n",
       "20            John Carter  unfulfil potenti still narrowli like it em joh...   \n",
       "21           Spider-Man 3  after the success of the first two spider man ...   \n",
       "22           Spider-Man 3  thi movi is about spidey s reveng and transfor...   \n",
       "23           Spider-Man 3  tobey maguir make such a great spider man hand...   \n",
       "24           Spider-Man 3  So much emot in thi movi what a way to end a t...   \n",
       "25           Spider-Man 3  the third and final film to one of the few tri...   \n",
       "26           Spider-Man 3  I know thi is suppos to have a darker tone tha...   \n",
       "27           Spider-Man 3  My wife isn t that big of a superhero fanat bu...   \n",
       "28           Spider-Man 3  It still puzzl me to thi day whi thi felt like...   \n",
       "29           Spider-Man 3  now that I think about it thi film just had to...   \n",
       "30           Spider-Man 3  out of all the tobey maguir spider man film th...   \n",
       "31           Spider-Man 3  I wa satisfi but that alreadi wa a disappoint ...   \n",
       "32           Spider-Man 3  although I d say that sandman s act wa pretti ...   \n",
       "33           Spider-Man 3  spider man 3 is still pretti good but when you...   \n",
       "34           Spider-Man 3  man I wish they didn t have to kill off harri ...   \n",
       "35           Spider-Man 3  they had too mani concept that they tri to cra...   \n",
       "36           Spider-Man 3  tobey maguir isn t good at be bad don t get me...   \n",
       "37           Spider-Man 3  I realli tri my best to not hate it but it s h...   \n",
       "38           Spider-Man 3  It felt like a total differ spider man It s su...   \n",
       "39           Spider-Man 3  great action sequenc and charact develop is lo...   \n",
       "40           Spider-Man 3  ye there wa too much to process but I still th...   \n",
       "\n",
       "   sentiment  \n",
       "0   negative  \n",
       "1   positive  \n",
       "2   positive  \n",
       "3   positive  \n",
       "4   negative  \n",
       "5   positive  \n",
       "6   positive  \n",
       "7   positive  \n",
       "8   negative  \n",
       "9   positive  \n",
       "10  positive  \n",
       "11  positive  \n",
       "12  negative  \n",
       "13  negative  \n",
       "14  positive  \n",
       "15  positive  \n",
       "16  positive  \n",
       "17  negative  \n",
       "18  positive  \n",
       "19  negative  \n",
       "20  negative  \n",
       "21  negative  \n",
       "22  negative  \n",
       "23  negative  \n",
       "24  positive  \n",
       "25  negative  \n",
       "26  negative  \n",
       "27  negative  \n",
       "28  negative  \n",
       "29  negative  \n",
       "30  positive  \n",
       "31  negative  \n",
       "32  negative  \n",
       "33  positive  \n",
       "34  negative  \n",
       "35  negative  \n",
       "36  negative  \n",
       "37  negative  \n",
       "38  negative  \n",
       "39  negative  \n",
       "40  positive  "
      ]
     },
     "execution_count": 58,
     "metadata": {},
     "output_type": "execute_result"
    }
   ],
   "source": [
    "df_review"
   ]
  },
  {
   "cell_type": "code",
   "execution_count": 59,
   "metadata": {},
   "outputs": [],
   "source": [
    "df_review['sentiment'].replace({'positive':1,'negative':0}, inplace=True)"
   ]
  },
  {
   "cell_type": "code",
   "execution_count": 60,
   "metadata": {},
   "outputs": [
    {
     "data": {
      "text/plain": [
       "<AxesSubplot:xlabel='sentiment', ylabel='count'>"
      ]
     },
     "execution_count": 60,
     "metadata": {},
     "output_type": "execute_result"
    },
    {
     "data": {
      "image/png": "[encoded data removed]",
      "text/plain": [
       "<Figure size 432x288 with 1 Axes>"
      ]
     },
     "metadata": {
      "needs_background": "light"
     },
     "output_type": "display_data"
    }
   ],
   "source": [
    "#bar plot for sentiments showing positive and negative sentiments for top 5 movies\n",
    "plt.plot(figsize=(12,6))\n",
    "sns.countplot(data=df_review, x='sentiment',hue='title')"
   ]
  },
  {
   "cell_type": "code",
   "execution_count": 61,
   "metadata": {},
   "outputs": [],
   "source": [
    "# Steps involved in this notebook\n",
    "# Data Collection:\n",
    "#     a. get reviews data from kaggle to train the models\n",
    "#     b. import movies dataset exported from other notebook on recommendations\n",
    "# Data Preprocessing for get text ready for prediction\n",
    "#     a. remove html tags\n",
    "#     b. remove special characters using regular expression(get only alphanumeric characters)\n",
    "#     c. stemming of text to get the root word\n",
    "# Convert text into vectors\n",
    "#     a. using CountVectorizer method of sklearn text is converted into vectors\n",
    "#     b. train models with converted vectors \n",
    "# Models used for prediction:\n",
    "#      a. GaussianNB\n",
    "#      b. MultinomialNB\n",
    "#      c. BernoulliNB"
   ]
  },
  {
   "cell_type": "code",
   "execution_count": null,
   "metadata": {},
   "outputs": [],
   "source": [
    "# future improvements:\n",
    "#     becuase of the space issue i could not train the model on large dataset due to which word dictionary while \n",
    "#     training the model is limited , so might be there are some useful words in reviews text for prediction \n",
    "#     which are not in the dictionary because of which results may not be accurate"
   ]
  }
 ],
 "metadata": {
  "kernelspec": {
   "display_name": "Python 3",
   "language": "python",
   "name": "python3"
  },
  "language_info": {
   "codemirror_mode": {
    "name": "ipython",
    "version": 3
   },
   "file_extension": ".py",
   "mimetype": "text/x-python",
   "name": "python",
   "nbconvert_exporter": "python",
   "pygments_lexer": "ipython3",
   "version": "3.8.5"
  }
 },
 "nbformat": 4,
 "nbformat_minor": 4
}
